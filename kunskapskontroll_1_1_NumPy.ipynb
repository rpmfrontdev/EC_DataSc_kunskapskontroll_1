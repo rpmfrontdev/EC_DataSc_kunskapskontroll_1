{
 "cells": [
  {
   "cell_type": "markdown",
   "id": "dacf74e6",
   "metadata": {},
   "source": [
    "# NumPy"
   ]
  },
  {
   "cell_type": "markdown",
   "id": "01b2bf34",
   "metadata": {},
   "source": [
    "Read the links: https://numpy.org/doc/stable/user/quickstart.html  and https://numpy.org/doc/stable/user/basics.broadcasting.html  before solving the exercises. "
   ]
  },
  {
   "cell_type": "code",
   "execution_count": 1,
   "id": "1f79e4a6",
   "metadata": {},
   "outputs": [],
   "source": [
    "import numpy as np\n"
   ]
  },
  {
   "cell_type": "markdown",
   "id": "7dae6889",
   "metadata": {},
   "source": [
    "### Print out the dimension (number of axes), shape, size and the datatype of the matrix A."
   ]
  },
  {
   "cell_type": "code",
   "execution_count": 3,
   "id": "7b3678cd",
   "metadata": {},
   "outputs": [],
   "source": [
    "A = np.arange(1, 16).reshape(3,5)"
   ]
  },
  {
   "cell_type": "code",
   "execution_count": 8,
   "id": "31d39235",
   "metadata": {},
   "outputs": [
    {
     "name": "stdout",
     "output_type": "stream",
     "text": [
      " Shape: (3, 5)\n",
      " Data type: <class 'numpy.ndarray'>\n"
     ]
    }
   ],
   "source": [
    "print(f' Shape: {A.shape}')\n",
    "print(f' Data type: {type(A)}')"
   ]
  },
  {
   "cell_type": "markdown",
   "id": "e56d2a96",
   "metadata": {},
   "source": [
    "### Do the following computations on the matrices B and C: \n",
    "* Elementwise subtraction. \n",
    "* Elementwise multiplication. \n",
    "* Matrix multiplication (by default you should use the @ operator)."
   ]
  },
  {
   "cell_type": "code",
   "execution_count": 9,
   "id": "a7053fbb",
   "metadata": {},
   "outputs": [
    {
     "name": "stdout",
     "output_type": "stream",
     "text": [
      "[[1 2 3]\n",
      " [4 5 6]\n",
      " [7 8 9]]\n",
      "\n",
      "[[2. 2. 2.]\n",
      " [2. 2. 2.]\n",
      " [2. 2. 2.]]\n"
     ]
    }
   ],
   "source": [
    "B = np.arange(1, 10).reshape(3, 3)\n",
    "C = np.ones((3, 3))*2\n",
    "\n",
    "print(B)\n",
    "print()\n",
    "print(C)\n"
   ]
  },
  {
   "cell_type": "code",
   "execution_count": 19,
   "id": "3cd794ae",
   "metadata": {},
   "outputs": [
    {
     "name": "stdout",
     "output_type": "stream",
     "text": [
      "[[-1.  0.  1.]\n",
      " [ 2.  3.  4.]\n",
      " [ 5.  6.  7.]]\n"
     ]
    }
   ],
   "source": [
    "# Elementwise subtraction. \n",
    "D = np.subtract(B, C)\n",
    "print(D)"
   ]
  },
  {
   "cell_type": "code",
   "execution_count": 20,
   "id": "e1f13dbb",
   "metadata": {},
   "outputs": [
    {
     "name": "stdout",
     "output_type": "stream",
     "text": [
      "[[ 2.  4.  6.]\n",
      " [ 8. 10. 12.]\n",
      " [14. 16. 18.]]\n"
     ]
    }
   ],
   "source": [
    "# Elementwise multiplication. \n",
    "E = np.multiply(B, C)\n",
    "print(E)\n"
   ]
  },
  {
   "cell_type": "code",
   "execution_count": 21,
   "id": "8d4a70f2",
   "metadata": {},
   "outputs": [
    {
     "name": "stdout",
     "output_type": "stream",
     "text": [
      "[[12. 12. 12.]\n",
      " [30. 30. 30.]\n",
      " [48. 48. 48.]]\n"
     ]
    }
   ],
   "source": [
    "# Matrix multiplication (by default you should use the @ operator).\n",
    "F = B @ C\n",
    "print(F)"
   ]
  },
  {
   "cell_type": "markdown",
   "id": "96030d53",
   "metadata": {},
   "source": [
    "### Do the following calculations on the matrix:\n",
    "* Exponentiate each number elementwise (use the np.exp function).\n",
    "\n",
    "* Calculate the minimum value in the whole matrix. \n",
    "* Calculcate the minimum value in each row. \n",
    "* Calculcate the minimum value in each column. \n",
    "\n",
    "\n",
    "* Find the index value for the minimum value in the whole matrix (hint: use np.argmin).\n",
    "* Find the index value for the minimum value in each row (hint: use np.argmin).\n",
    "\n",
    "\n",
    "* Calculate the sum for all elements.\n",
    "* Calculate the mean for each column. \n",
    "* Calculate the median for each column. "
   ]
  },
  {
   "cell_type": "code",
   "execution_count": 18,
   "id": "f8a9166b",
   "metadata": {},
   "outputs": [
    {
     "name": "stdout",
     "output_type": "stream",
     "text": [
      "[[1 2 3]\n",
      " [4 5 6]\n",
      " [7 8 9]]\n"
     ]
    }
   ],
   "source": [
    "B = np.arange(1, 10).reshape(3, 3)\n",
    "print(B)"
   ]
  },
  {
   "cell_type": "code",
   "execution_count": 23,
   "id": "f03f24f7",
   "metadata": {},
   "outputs": [
    {
     "name": "stdout",
     "output_type": "stream",
     "text": [
      "[[2.71828183e+00 7.38905610e+00 2.00855369e+01]\n",
      " [5.45981500e+01 1.48413159e+02 4.03428793e+02]\n",
      " [1.09663316e+03 2.98095799e+03 8.10308393e+03]]\n"
     ]
    }
   ],
   "source": [
    "# * Exponentiate each number elementwise (use the np.exp function).\n",
    "C = np.exp(B)\n",
    "print(C)"
   ]
  },
  {
   "cell_type": "code",
   "execution_count": 24,
   "id": "20876e7a",
   "metadata": {},
   "outputs": [
    {
     "name": "stdout",
     "output_type": "stream",
     "text": [
      "1\n"
     ]
    }
   ],
   "source": [
    "# * Calculate the minimum value in the whole matrix.\n",
    "min_B = np.min(B)\n",
    "print(min_B)"
   ]
  },
  {
   "cell_type": "code",
   "execution_count": 26,
   "id": "0b0c4437",
   "metadata": {},
   "outputs": [
    {
     "name": "stdout",
     "output_type": "stream",
     "text": [
      "[1 4 7]\n"
     ]
    }
   ],
   "source": [
    "# * Calculcate the minimum value in each row. \n",
    "min_B_row = np.min(B, axis=1)\n",
    "print(min_B_row)"
   ]
  },
  {
   "cell_type": "code",
   "execution_count": 27,
   "id": "14d1f2a8",
   "metadata": {},
   "outputs": [
    {
     "name": "stdout",
     "output_type": "stream",
     "text": [
      "[1 2 3]\n"
     ]
    }
   ],
   "source": [
    "\n",
    "# * Calculcate the minimum value in each column. \n",
    "min_B_col = np.min(B, axis=0)\n",
    "print(min_B_col)"
   ]
  },
  {
   "cell_type": "code",
   "execution_count": 28,
   "id": "69fb1903",
   "metadata": {},
   "outputs": [
    {
     "name": "stdout",
     "output_type": "stream",
     "text": [
      "0\n"
     ]
    }
   ],
   "source": [
    "# * Find the index value for the minimum value in the whole matrix (hint: use np.argmin).\n",
    "min_B_index = np.argmin(B)\n",
    "print(min_B_index)"
   ]
  },
  {
   "cell_type": "code",
   "execution_count": 29,
   "id": "b13eb722",
   "metadata": {},
   "outputs": [
    {
     "name": "stdout",
     "output_type": "stream",
     "text": [
      "[0 0 0]\n"
     ]
    }
   ],
   "source": [
    "# * Find the index value for the minimum value in each row (hint: use np.argmin).\n",
    "min_ind_row = np.argmin(B, axis=1)\n",
    "print(min_ind_row)"
   ]
  },
  {
   "cell_type": "code",
   "execution_count": 30,
   "id": "8a13f89f",
   "metadata": {},
   "outputs": [
    {
     "name": "stdout",
     "output_type": "stream",
     "text": [
      "45\n"
     ]
    }
   ],
   "source": [
    "# * Calculate the sum for all elements.\n",
    "\n",
    "sum_B = np.sum(B)\n",
    "print(sum_B)"
   ]
  },
  {
   "cell_type": "code",
   "execution_count": 31,
   "id": "7409bd57",
   "metadata": {},
   "outputs": [
    {
     "name": "stdout",
     "output_type": "stream",
     "text": [
      "[4. 5. 6.]\n"
     ]
    }
   ],
   "source": [
    "# * Calculate the mean for each column. \n",
    "\n",
    "mean_col = np.mean(B, axis=0)\n",
    "print(mean_col)"
   ]
  },
  {
   "cell_type": "code",
   "execution_count": 32,
   "id": "b9b66265",
   "metadata": {},
   "outputs": [
    {
     "name": "stdout",
     "output_type": "stream",
     "text": [
      "[4. 5. 6.]\n"
     ]
    }
   ],
   "source": [
    "# * Calculate the median for each column. \n",
    "median_col = np.median(B, axis=0)\n",
    "print(median_col)"
   ]
  },
  {
   "cell_type": "markdown",
   "id": "541eb7ba",
   "metadata": {},
   "source": [
    "### What does it mean when you provide fewer indices than axes when slicing? See example below."
   ]
  },
  {
   "cell_type": "code",
   "execution_count": 33,
   "id": "9c8abf56",
   "metadata": {},
   "outputs": [
    {
     "name": "stdout",
     "output_type": "stream",
     "text": [
      "[[ 1  2  3  4  5]\n",
      " [ 6  7  8  9 10]\n",
      " [11 12 13 14 15]]\n"
     ]
    }
   ],
   "source": [
    "print(A)"
   ]
  },
  {
   "cell_type": "code",
   "execution_count": 34,
   "id": "69415f7b",
   "metadata": {},
   "outputs": [
    {
     "data": {
      "text/plain": [
       "array([ 6,  7,  8,  9, 10])"
      ]
     },
     "execution_count": 34,
     "metadata": {},
     "output_type": "execute_result"
    }
   ],
   "source": [
    "A[1]"
   ]
  },
  {
   "cell_type": "markdown",
   "id": "6c53541b",
   "metadata": {},
   "source": [
    "**Answer:**"
   ]
  },
  {
   "cell_type": "markdown",
   "id": "de01e120",
   "metadata": {},
   "source": [
    "It seems like this selects all elements along the second row (index 1), and apparently it assumes the column index to be \":\", \n",
    "thus returning an element in each column of the array"
   ]
  },
  {
   "cell_type": "markdown",
   "id": "6652d0c9",
   "metadata": {},
   "source": [
    "### Iterating over multidimensional arrays is done with respect to the first axis, so in the example below we iterate trough the rows. If you would like to iterate through the array *elementwise*, how would you do that?"
   ]
  },
  {
   "cell_type": "code",
   "execution_count": 36,
   "id": "9459864f",
   "metadata": {},
   "outputs": [
    {
     "data": {
      "text/plain": [
       "array([[ 1,  2,  3,  4,  5],\n",
       "       [ 6,  7,  8,  9, 10],\n",
       "       [11, 12, 13, 14, 15]])"
      ]
     },
     "execution_count": 36,
     "metadata": {},
     "output_type": "execute_result"
    }
   ],
   "source": [
    "A"
   ]
  },
  {
   "cell_type": "code",
   "execution_count": 37,
   "id": "a671bb5a",
   "metadata": {},
   "outputs": [
    {
     "name": "stdout",
     "output_type": "stream",
     "text": [
      "[1 2 3 4 5]\n",
      "[ 6  7  8  9 10]\n",
      "[11 12 13 14 15]\n"
     ]
    }
   ],
   "source": [
    "for i in A:\n",
    "    print(i)"
   ]
  },
  {
   "cell_type": "code",
   "execution_count": 40,
   "id": "f4e443a0",
   "metadata": {},
   "outputs": [
    {
     "name": "stdout",
     "output_type": "stream",
     "text": [
      "1\n",
      "2\n",
      "3\n",
      "4\n",
      "5\n",
      "6\n",
      "7\n",
      "8\n",
      "9\n",
      "10\n",
      "11\n",
      "12\n",
      "13\n",
      "14\n",
      "15\n"
     ]
    }
   ],
   "source": [
    "# use A.flat to convert the array into a 1-dimensional matrix\n",
    "for i in A.flat: \n",
    "\n",
    "    print(i)"
   ]
  },
  {
   "cell_type": "markdown",
   "id": "608a2583",
   "metadata": {},
   "source": [
    "### Explain what the code below does. More specifically, b has three axes - what does this mean? "
   ]
  },
  {
   "cell_type": "code",
   "execution_count": 45,
   "id": "f8f9b26f",
   "metadata": {},
   "outputs": [
    {
     "name": "stdout",
     "output_type": "stream",
     "text": [
      "[ 0  1  2  3  4  5  6  7  8  9 10 11 12 13 14 15 16 17 18 19 20 21 22 23\n",
      " 24 25 26 27 28 29]\n",
      "\n",
      "[[[ 0  1  2  3  4]\n",
      "  [ 5  6  7  8  9]\n",
      "  [10 11 12 13 14]]\n",
      "\n",
      " [[15 16 17 18 19]\n",
      "  [20 21 22 23 24]\n",
      "  [25 26 27 28 29]]]\n"
     ]
    }
   ],
   "source": [
    "a = np.arange(30)\n",
    "b = a.reshape((2, 3, -1))\n",
    "print(a)\n",
    "print()\n",
    "\n",
    "print(b)"
   ]
  },
  {
   "cell_type": "markdown",
   "id": "69d89356",
   "metadata": {},
   "source": [
    "#### the code above produces a 3 dimensional array (b), from the 30 elements of (a). the first dimension has 2 elements, the second has 3 elements, and the third is determined automatically from the number of elements (argument -1). so the third dimension is 30/(2x3) = 5. "
   ]
  },
  {
   "cell_type": "markdown",
   "id": "ab5933d5",
   "metadata": {},
   "source": [
    "### Broadcasting\n",
    "**Read the following link about broadcasting: https://numpy.org/doc/stable/user/basics.broadcasting.html#basics-broadcasting**"
   ]
  },
  {
   "cell_type": "markdown",
   "id": "039805ba",
   "metadata": {},
   "source": [
    "# Remark on Broadcasting when doing Linear Algebra calculations in Python. "
   ]
  },
  {
   "cell_type": "markdown",
   "id": "c4bcc147",
   "metadata": {},
   "source": [
    "### From the mathematical rules of matrix addition, the operation below (m1 + m2) does not make sense. The reason is that matrix addition requires two matrices of the same size. In Python however, it works due to broadcasting rules in NumPy. So you must be careful when doing Linear Algebra calculations in Python since they do not follow the \"mathematical rules\". This can however easily be handled by doing some simple programming, for example validating that two matrices have the same shape is easy if you for instance want to add two matrices. "
   ]
  },
  {
   "cell_type": "code",
   "execution_count": 46,
   "id": "1fd46778",
   "metadata": {},
   "outputs": [
    {
     "name": "stdout",
     "output_type": "stream",
     "text": [
      "[[2 3]\n",
      " [4 5]]\n"
     ]
    }
   ],
   "source": [
    "m1 = np.array([[1, 2], [3, 4]])\n",
    "m2 = np.array([1, 1])\n",
    "print(m1 + m2)"
   ]
  },
  {
   "cell_type": "markdown",
   "id": "047d6576",
   "metadata": {},
   "source": [
    "### The example below would also not be allowed if following the \"mathematical rules\" in Linear Algebra. But it works due to broadcasting in NumPy. "
   ]
  },
  {
   "cell_type": "code",
   "execution_count": 47,
   "id": "5e6ef2e4",
   "metadata": {},
   "outputs": [
    {
     "name": "stdout",
     "output_type": "stream",
     "text": [
      "[2 3 4]\n"
     ]
    }
   ],
   "source": [
    "v1 = np.array([1, 2, 3])\n",
    "print(v1 + 1)"
   ]
  },
  {
   "cell_type": "code",
   "execution_count": 48,
   "id": "e2cbae26",
   "metadata": {},
   "outputs": [
    {
     "name": "stdout",
     "output_type": "stream",
     "text": [
      "[[1 2]\n",
      " [3 4]]\n",
      "[2 2]\n"
     ]
    }
   ],
   "source": [
    "A = np.arange(1, 5).reshape(2,2)\n",
    "print(A)\n",
    "\n",
    "b = np.array([2, 2])\n",
    "print(b)"
   ]
  },
  {
   "cell_type": "markdown",
   "id": "722fd5cd",
   "metadata": {},
   "source": [
    "# Vector- and matrix algebra Exercises"
   ]
  },
  {
   "cell_type": "markdown",
   "id": "b63a3081-d976-4d9f-bfd0-a63917e79f7d",
   "metadata": {},
   "source": [
    "**Now you are going to create a function that can be reused every time you add or multiply matrices. The function is created so that we do the addition and multiplication according to the rules of vector- and matrix algebra.**\n",
    "\n",
    "**Create a function \"add_mult_matrices\" that takes two matrices as input arguments (validate that the input are of the type numpy.ndarray by using the isinstance function), a third argument that is either 'add' or 'multiply' that specifies if you want to add or multiply the matrices (validate that the third argument is either 'add' or 'multiply'). When doing matrix addition, validate that the matrices have the same size. When doing matrix multiplication, validate that the sizes conform (i.e. number of columns in the first matrix is equal to the number of rows in the second matrix).**"
   ]
  },
  {
   "cell_type": "code",
   "execution_count": 49,
   "id": "3506f977-ac0a-473f-85bc-eec9f35dc498",
   "metadata": {},
   "outputs": [],
   "source": [
    "def add_mult_matrices(arr1, arr2, mat_operation):\n",
    "  \"\"\"Function to add or multiply two matrices.\n",
    "\n",
    "  Inputs: \n",
    "    arr1, arr2: The 2 matrices\n",
    "    mat_operation: option to specify matrix operation ('add' or 'multiply')\n",
    "\n",
    "  Returns:\n",
    "    The result of the operation.\n",
    "  \"\"\"\n",
    "\n",
    "  if not isinstance(arr1, np.ndarray) or not isinstance(arr2, np.ndarray):\n",
    "    raise TypeError(\"input matrices provided are not numpy arrays.\")\n",
    "\n",
    "  if mat_operation not in ('add', 'multiply'):\n",
    "    raise ValueError(\"Strictly choose either 'add' or 'multiply' only.\")\n",
    "\n",
    "  if mat_operation == 'add':\n",
    "    #check if matrices have same shape for addition\n",
    "    if arr1.shape != arr2.shape:\n",
    "      raise ValueError(\"Input matrices must have the same shape!\")\n",
    "    return arr1 + arr2\n",
    "  else:\n",
    "    if mat_operation == 'multiply':\n",
    "    #check if number of columns in the first matrix is equal to the number of rows in the second matrix\n",
    "        if arr1.shape[1] != arr2.shape[0]:\n",
    "            raise ValueError(\"number of columns in the first matrix must equal to the number of rows in the second matrixfor multiplication.\")\n",
    "        return np.dot(arr1, arr2)"
   ]
  },
  {
   "cell_type": "markdown",
   "id": "8dad82d0-2359-4dff-8f5b-a57d3e34103c",
   "metadata": {},
   "source": [
    "### Solve all the exercises in chapter 10.1 in the book \"Matematik för yrkeshögskolan\". "
   ]
  },
  {
   "cell_type": "code",
   "execution_count": 6,
   "id": "94cd914a",
   "metadata": {},
   "outputs": [
    {
     "data": {
      "text/html": [
       "<img src=\"uppgif_10_1_1.jpg\" width=\"400\" height=\"400\"/>"
      ],
      "text/plain": [
       "<IPython.core.display.Image object>"
      ]
     },
     "execution_count": 6,
     "metadata": {},
     "output_type": "execute_result"
    }
   ],
   "source": [
    "# import image module \n",
    "from IPython.display import Image\n",
    "# Uppgift 10.1.1\n",
    "Image(url=\"uppgif_10_1_1.jpg\", width=400, height=400) \n"
   ]
  },
  {
   "cell_type": "code",
   "execution_count": 80,
   "id": "fa956c4a",
   "metadata": {},
   "outputs": [
    {
     "name": "stdout",
     "output_type": "stream",
     "text": [
      "[[4 3]]\n"
     ]
    }
   ],
   "source": [
    "## Definiera X\n",
    "X = np.array([[4, 3]])\n",
    "print(X)"
   ]
  },
  {
   "cell_type": "markdown",
   "id": "fc623365",
   "metadata": {},
   "source": [
    "(a) X är en rad matrix, with en rad och en 2 columner, i.e. en 1x2 matrix"
   ]
  },
  {
   "cell_type": "code",
   "execution_count": 15,
   "id": "89df88af-3668-4d98-a0a4-e6d92eea0f89",
   "metadata": {},
   "outputs": [
    {
     "name": "stdout",
     "output_type": "stream",
     "text": [
      "[[20 15]]\n"
     ]
    }
   ],
   "source": [
    "# (b) beräkna 5X\n",
    "\n",
    "X5 = 5 * X\n",
    "print(X5)\n"
   ]
  },
  {
   "cell_type": "code",
   "execution_count": 16,
   "id": "59b6daac",
   "metadata": {},
   "outputs": [
    {
     "name": "stdout",
     "output_type": "stream",
     "text": [
      "[[12  9]]\n"
     ]
    }
   ],
   "source": [
    "# (c) beräkna 3X\n",
    "\n",
    "X3 = 3 * X\n",
    "print(X3)"
   ]
  },
  {
   "cell_type": "code",
   "execution_count": 17,
   "id": "218f5da1",
   "metadata": {},
   "outputs": [
    {
     "name": "stdout",
     "output_type": "stream",
     "text": [
      "[[32 24]]\n"
     ]
    }
   ],
   "source": [
    "# (d) beräkna 5X + 3X\n",
    "sum_5X_3X = X5 + X3\n",
    "print(sum_5X_3X)"
   ]
  },
  {
   "cell_type": "code",
   "execution_count": 18,
   "id": "bd0e0c7c",
   "metadata": {},
   "outputs": [
    {
     "name": "stdout",
     "output_type": "stream",
     "text": [
      "[[32 24]]\n"
     ]
    }
   ],
   "source": [
    "# (e) beräkna 8X\n",
    "X8 = 8 * X\n",
    "print(X8)"
   ]
  },
  {
   "cell_type": "code",
   "execution_count": 19,
   "id": "2606ab9f",
   "metadata": {},
   "outputs": [
    {
     "name": "stdout",
     "output_type": "stream",
     "text": [
      "[[12  9]]\n"
     ]
    }
   ],
   "source": [
    "# (f) beräkna 4X - X\n",
    "\n",
    "X4 = 4*X\n",
    "x4_min_X = X4 - X\n",
    "print(x4_min_X)"
   ]
  },
  {
   "cell_type": "code",
   "execution_count": 66,
   "id": "bce02440",
   "metadata": {},
   "outputs": [
    {
     "name": "stdout",
     "output_type": "stream",
     "text": [
      "[[4]\n",
      " [3]]\n"
     ]
    }
   ],
   "source": [
    "# (g) beräkna X transpose\n",
    "X_transposed = X.T\n",
    "print(X_transposed)"
   ]
  },
  {
   "cell_type": "code",
   "execution_count": 81,
   "id": "84973837",
   "metadata": {},
   "outputs": [
    {
     "name": "stdout",
     "output_type": "stream",
     "text": [
      "[[8 7]\n",
      " [7 6]]\n"
     ]
    }
   ],
   "source": [
    "#(h)\n",
    "# Mathematically, matrix addition is defined for matrices of the same shape, thus X + X_transposed would be undefined. \n",
    "# However, NumPy uses broadcasting to make the shapes compatible for addition, by replicating the smaller (1x2) matrix along the missing dimension\n",
    "# in order to match the larger matrix (2x1). once replicated, both matrices have similar dimensions and thus their sum is defined.\n",
    "\n",
    "np.seterr(over='warn') # catch warnings for the behavior behaviour (a warning msg appears in console!)\n",
    "\n",
    "sum_X_XT = X + X_transposed\n",
    "print(sum_X_XT)"
   ]
  },
  {
   "cell_type": "code",
   "execution_count": 38,
   "id": "160e04e5",
   "metadata": {},
   "outputs": [
    {
     "name": "stdout",
     "output_type": "stream",
     "text": [
      "Frobenius norm: 5.0\n"
     ]
    }
   ],
   "source": [
    "# (i) beräkna ||X||\n",
    "norm_X = np.linalg.norm(X) #calculate the Frobenius norm (default norm in numpy)\n",
    "print(\"Frobenius norm:\", norm_X) "
   ]
  },
  {
   "cell_type": "code",
   "execution_count": 26,
   "id": "c777e338",
   "metadata": {},
   "outputs": [
    {
     "data": {
      "text/html": [
       "<img src=\"uppgif_10_1_2.jpg\" width=\"400\" height=\"400\"/>"
      ],
      "text/plain": [
       "<IPython.core.display.Image object>"
      ]
     },
     "execution_count": 26,
     "metadata": {},
     "output_type": "execute_result"
    }
   ],
   "source": [
    "# Uppgift 10.1.2\n",
    "Image(url=\"uppgif_10_1_2.jpg\", width=400, height=400) "
   ]
  },
  {
   "cell_type": "code",
   "execution_count": 29,
   "id": "098cf823",
   "metadata": {},
   "outputs": [
    {
     "name": "stdout",
     "output_type": "stream",
     "text": [
      "(4, 1)\n"
     ]
    }
   ],
   "source": [
    "# Define vector v (4x1)\n",
    "v = np.array([[3],[7],[0],[11]])\n",
    "\n",
    "#(a)  vector v dimensions\n",
    "print(v.shape) # The vector v has 4 x 1 dimension (4 rows / 1 column)"
   ]
  },
  {
   "cell_type": "code",
   "execution_count": 30,
   "id": "2f0de601",
   "metadata": {},
   "outputs": [
    {
     "name": "stdout",
     "output_type": "stream",
     "text": [
      "[[ 6]\n",
      " [14]\n",
      " [ 0]\n",
      " [22]]\n"
     ]
    }
   ],
   "source": [
    "#(b)  beräkna 2v\n",
    "\n",
    "v2 = 2*v\n",
    "print(v2)"
   ]
  },
  {
   "cell_type": "code",
   "execution_count": 31,
   "id": "210062ea",
   "metadata": {},
   "outputs": [
    {
     "name": "stdout",
     "output_type": "stream",
     "text": [
      "[[21]\n",
      " [49]\n",
      " [ 0]\n",
      " [77]]\n"
     ]
    }
   ],
   "source": [
    "#(c)  beräkna 5v + 2v\n",
    "v5 = 5*v\n",
    "v5_p_2v = v5 + v2\n",
    "print(v5_p_2v)"
   ]
  },
  {
   "cell_type": "code",
   "execution_count": 34,
   "id": "83b7df23",
   "metadata": {},
   "outputs": [
    {
     "name": "stdout",
     "output_type": "stream",
     "text": [
      "[[ 6]\n",
      " [14]\n",
      " [ 0]\n",
      " [22]]\n",
      "[[ True]\n",
      " [ True]\n",
      " [ True]\n",
      " [ True]]\n"
     ]
    }
   ],
   "source": [
    "#(d)  beräkna 4v - 2v\n",
    "v4_m_2v = 4*v - v2 # Should be equal to 2v\n",
    "print(v4_m_2v)\n",
    "print(v4_m_2v == v2)"
   ]
  },
  {
   "cell_type": "code",
   "execution_count": 35,
   "id": "adf61ecf",
   "metadata": {},
   "outputs": [
    {
     "name": "stdout",
     "output_type": "stream",
     "text": [
      "(1, 4)\n"
     ]
    }
   ],
   "source": [
    "#(e)  v transpose\n",
    "\n",
    "v_T = v.T\n",
    "print(v_T.shape) # the transpose of v is a 1 by 4 matrix "
   ]
  },
  {
   "cell_type": "code",
   "execution_count": 37,
   "id": "6c643ccf",
   "metadata": {},
   "outputs": [
    {
     "name": "stdout",
     "output_type": "stream",
     "text": [
      "Frobenius norm: 13.379088160259652\n"
     ]
    }
   ],
   "source": [
    "# (f) beräkna ||v||\n",
    "norm_v = np.linalg.norm(v) #calculates the Frobenius norm (default norm in numpy)\n",
    "print(\"Frobenius norm:\", norm_v) "
   ]
  },
  {
   "cell_type": "code",
   "execution_count": 41,
   "id": "6aebd3b1",
   "metadata": {},
   "outputs": [
    {
     "name": "stdout",
     "output_type": "stream",
     "text": [
      "(1, 4)\n",
      "(1, 4)\n"
     ]
    }
   ],
   "source": [
    "# Uppgift 10.1.3\n",
    "\n",
    "# define v1 and v2\n",
    "\n",
    "v1 = np.array([[4, 3, 1, 5]])\n",
    "v2 = np.array([[2, 3, 1, 1]])\n",
    "print (v1.shape)\n",
    "print(v2.shape)\n"
   ]
  },
  {
   "cell_type": "code",
   "execution_count": 42,
   "id": "5624e828",
   "metadata": {},
   "outputs": [
    {
     "name": "stdout",
     "output_type": "stream",
     "text": [
      "Frobenius norm: 7.14142842854285\n"
     ]
    }
   ],
   "source": [
    "# (a) beräkna ||v1||\n",
    "norm_v1 = np.linalg.norm(v1) #calculates the Frobenius norm (default norm in numpy)\n",
    "print(\"Frobenius norm:\", norm_v1) "
   ]
  },
  {
   "cell_type": "code",
   "execution_count": 44,
   "id": "5e62e393",
   "metadata": {},
   "outputs": [
    {
     "name": "stdout",
     "output_type": "stream",
     "text": [
      "Frobenius norm: 4.47213595499958\n",
      "Frobenius norm: 4.47213595499958\n"
     ]
    }
   ],
   "source": [
    "# (a) beräkna ||v1 - v2||\n",
    "\n",
    "norm_v1_2 = np.linalg.norm((v1-v2)) #calculates the Frobenius norm (default norm in numpy)\n",
    "print(\"Frobenius norm:\", norm_v1_2) \n",
    "\n",
    "# same as calculating the normal of the the difference matrix v1-v2\n",
    "v1_2 = v1-v2\n",
    "norm_v1_2_2 = np.linalg.norm(v1_2) #calculates the Frobenius norm (default norm in numpy)\n",
    "print(\"Frobenius norm:\", norm_v1_2_2) "
   ]
  },
  {
   "cell_type": "markdown",
   "id": "75c98984-1f88-4df1-b850-d2466de444a5",
   "metadata": {},
   "source": [
    "### Solve all the exercises, except 10.2.4, in chapter 10.2 in the book \"Matematik för yrkeshögskolan\". "
   ]
  },
  {
   "cell_type": "code",
   "execution_count": 47,
   "id": "65371610-16e1-48b2-b7fb-65e49002608a",
   "metadata": {},
   "outputs": [
    {
     "data": {
      "text/html": [
       "<img src=\"uppgif_10_2_1.jpg\" width=\"400\" height=\"400\"/>"
      ],
      "text/plain": [
       "<IPython.core.display.Image object>"
      ]
     },
     "execution_count": 47,
     "metadata": {},
     "output_type": "execute_result"
    }
   ],
   "source": [
    "# Uppgift 10.2\n",
    "Image(url=\"uppgif_10_2_1.jpg\", width=400, height=400) "
   ]
  },
  {
   "cell_type": "code",
   "execution_count": 57,
   "id": "828dc761",
   "metadata": {},
   "outputs": [
    {
     "name": "stdout",
     "output_type": "stream",
     "text": [
      "Matrix A dimensions:  (2, 3)\n",
      "Matrix B dimensions:  (2, 3)\n",
      "Matrix C dimensions:  (2, 2)\n",
      "Matrix D dimensions:  (2, 2)\n",
      "Matrix E dimensions:  (2, 1)\n",
      "Matrix I dimensions:  (2, 2)\n"
     ]
    }
   ],
   "source": [
    "# Define Matrice A, B, C, D, E and I\n",
    "A = np.array([[2, 1,-1],[1, -1,1] ])\n",
    "print (\"Matrix A dimensions: \", A.shape)\n",
    "\n",
    "B = np.array([[4, -2, 1],[2, -4, -2] ])\n",
    "print (\"Matrix B dimensions: \", B.shape)\n",
    "\n",
    "C = np.array([[1, 2],[2, 1] ])\n",
    "print (\"Matrix C dimensions: \", C.shape)\n",
    "\n",
    "D = np.array([[3, 4],[4, 3] ])\n",
    "print (\"Matrix D dimensions: \", D.shape)\n",
    "\n",
    "E = np.array([[1],[2] ])\n",
    "print (\"Matrix E dimensions: \", E.shape)\n",
    "\n",
    "I = np.array([[1, 0],[0, 1] ])\n",
    "print (\"Matrix I dimensions: \", I.shape)"
   ]
  },
  {
   "cell_type": "code",
   "execution_count": 56,
   "id": "95777301",
   "metadata": {},
   "outputs": [
    {
     "name": "stdout",
     "output_type": "stream",
     "text": [
      "A =  [[ 2  1 -1]\n",
      " [ 1 -1  1]]  \n",
      " 2A =  [[ 4  2 -2]\n",
      " [ 2 -2  2]]\n"
     ]
    }
   ],
   "source": [
    "# (a) 2A\n",
    "A2 = 2*A # defined (scalar multiplication)\n",
    "print(\"A = \", A, \" \\n 2A = \", A2)"
   ]
  },
  {
   "cell_type": "code",
   "execution_count": 58,
   "id": "7c643d74",
   "metadata": {},
   "outputs": [
    {
     "name": "stdout",
     "output_type": "stream",
     "text": [
      "[[ 0 -4  3]\n",
      " [ 0 -2 -4]]\n"
     ]
    }
   ],
   "source": [
    "# (b) B -2A (defined, B & A have same dimensions (2x3)\n",
    "\n",
    "B_2A = B - 2*A\n",
    "print(B_2A)"
   ]
  },
  {
   "cell_type": "code",
   "execution_count": 79,
   "id": "caa3814d",
   "metadata": {},
   "outputs": [
    {
     "name": "stdout",
     "output_type": "stream",
     "text": [
      "[[ 1  4]\n",
      " [ 2 -1]]\n"
     ]
    }
   ],
   "source": [
    "# (c) 3C -2E (undefined, C (2x2) & E (2,1). However, thanks to numpy broadcasting process, this operation can be done. \n",
    "np.seterr(over='warn') # catch warnings for the behavior behaviour (a warning msg appears in console!)\n",
    "C3_2E = 3*C -2*E\n",
    "print(C3_2E)"
   ]
  },
  {
   "cell_type": "code",
   "execution_count": 73,
   "id": "3f4a731a",
   "metadata": {},
   "outputs": [
    {
     "name": "stdout",
     "output_type": "stream",
     "text": [
      "[[3 2]\n",
      " [2 3]]\n"
     ]
    }
   ],
   "source": [
    "# (d) 2D -3C (defined, D & C have same dimensions (2x2)\n",
    "\n",
    "D2_3C = 2*D -3*C\n",
    "print(D2_3C)"
   ]
  },
  {
   "cell_type": "code",
   "execution_count": 63,
   "id": "48314313",
   "metadata": {},
   "outputs": [
    {
     "name": "stdout",
     "output_type": "stream",
     "text": [
      "DT+2D =  [[ 9 12]\n",
      " [12  9]]\n"
     ]
    }
   ],
   "source": [
    "# (e) D_T + 2D (defined, D & D_T have same dimensions (2x2)\n",
    "\n",
    "DT_2D = D.T + 2*D\n",
    "print(\"DT+2D = \", DT_2D)"
   ]
  },
  {
   "cell_type": "code",
   "execution_count": 64,
   "id": "975d1e0f",
   "metadata": {},
   "outputs": [
    {
     "name": "stdout",
     "output_type": "stream",
     "text": [
      "[[-4 -4]\n",
      " [-4 -4]]\n"
     ]
    }
   ],
   "source": [
    "# (f) 2C_T - 2D_T  (defined, C_T & D_T have same dimensions (2x2)\n",
    "C2_T_2D_T = 2*C.T - 2*D.T\n",
    "print(C2_T_2D_T)"
   ]
  },
  {
   "cell_type": "code",
   "execution_count": 92,
   "id": "b54d1fb9",
   "metadata": {},
   "outputs": [
    {
     "name": "stdout",
     "output_type": "stream",
     "text": [
      "[[10 -8  0]\n",
      " [ 2  2  3]\n",
      " [-2 -2 -3]]\n"
     ]
    }
   ],
   "source": [
    "# (g) A_T - B  (defined, A_T is a 2x2, and B is 2x3, i.e. number of columns in first matrix is equal to the number of rows in the second matrix\n",
    "\n",
    "A_T_B = A.T @ B\n",
    "print(A_T_B)\n"
   ]
  },
  {
   "cell_type": "code",
   "execution_count": 94,
   "id": "be9e4498",
   "metadata": {},
   "outputs": [],
   "source": [
    "# (h) AC ( Not defined A(2x3) & C(2x2), number of columns in first matrix must be equal to the number of rows in the second matrix)\n"
   ]
  },
  {
   "cell_type": "code",
   "execution_count": 99,
   "id": "27ee8270",
   "metadata": {},
   "outputs": [],
   "source": [
    "#(i) AD ( Not defined A(2x3) & D(2x2), number of columns in first matrix must be equal to the number of rows in the second matrix )\n"
   ]
  },
  {
   "cell_type": "code",
   "execution_count": 96,
   "id": "2b84dcca",
   "metadata": {},
   "outputs": [
    {
     "name": "stdout",
     "output_type": "stream",
     "text": [
      "(2, 2)\n",
      "(2, 3)\n",
      "[[  8 -10  -3]\n",
      " [ 10  -8   0]]\n"
     ]
    }
   ],
   "source": [
    "# (j) CB ( Defined C(2x2) & B(2x3), number of columns in first matrix must be equal to the number of rows in the second matrix )\n",
    "print(C.shape)\n",
    "print(B.shape)\n",
    "CB = C @ B\n",
    "\n",
    "print(CB)"
   ]
  },
  {
   "cell_type": "code",
   "execution_count": 100,
   "id": "3d2faa33",
   "metadata": {},
   "outputs": [
    {
     "data": {
      "text/plain": [
       "array([[1, 2],\n",
       "       [2, 1]])"
      ]
     },
     "execution_count": 100,
     "metadata": {},
     "output_type": "execute_result"
    }
   ],
   "source": [
    "# (k) CI (defined, C is a 2x2, and I is 2x2, i.e. number of columns in first matrix is equal to the number of rows in the second matrix\n",
    "\n",
    "C @ I\n"
   ]
  },
  {
   "cell_type": "code",
   "execution_count": 101,
   "id": "182fb0ca",
   "metadata": {},
   "outputs": [
    {
     "data": {
      "text/plain": [
       "array([[5, 2],\n",
       "       [7, 4]])"
      ]
     },
     "execution_count": 101,
     "metadata": {},
     "output_type": "execute_result"
    }
   ],
   "source": [
    "# (l) AB_T (defined, A is a 2x3, and B_T is 3x2, i.e. number of columns in first matrix is equal to the number of rows in the second matrix\n",
    "\n",
    "A @ B.T"
   ]
  },
  {
   "cell_type": "code",
   "execution_count": null,
   "id": "8d9f868d",
   "metadata": {},
   "outputs": [],
   "source": []
  },
  {
   "cell_type": "code",
   "execution_count": 48,
   "id": "16761f4e",
   "metadata": {},
   "outputs": [
    {
     "data": {
      "text/html": [
       "<img src=\"uppgif_10_2_2.jpg\" width=\"400\" height=\"400\"/>"
      ],
      "text/plain": [
       "<IPython.core.display.Image object>"
      ]
     },
     "execution_count": 48,
     "metadata": {},
     "output_type": "execute_result"
    }
   ],
   "source": [
    "Image(url=\"uppgif_10_2_2.jpg\", width=400, height=400) "
   ]
  },
  {
   "cell_type": "markdown",
   "id": "6a4a524f",
   "metadata": {},
   "source": [
    "### Copies and Views\n",
    "Read the following link: https://numpy.org/doc/stable/user/basics.copies.html"
   ]
  },
  {
   "cell_type": "markdown",
   "id": "6cbbeaf7",
   "metadata": {},
   "source": [
    "**Basic indexing creates a view, How can you check if v1 and v2 is a view or copy? If you change the last element in v2 to 123, will the last element in v1 be changed? Why?**"
   ]
  },
  {
   "cell_type": "code",
   "execution_count": 50,
   "id": "5b9ef4df",
   "metadata": {},
   "outputs": [
    {
     "name": "stdout",
     "output_type": "stream",
     "text": [
      "[0 1 2 3]\n",
      "[2 3]\n"
     ]
    }
   ],
   "source": [
    "v1 = np.arange(4)\n",
    "v2 = v1[-2:]\n",
    "print(v1)\n",
    "print(v2)"
   ]
  },
  {
   "cell_type": "code",
   "execution_count": 51,
   "id": "d2440489",
   "metadata": {},
   "outputs": [
    {
     "name": "stdout",
     "output_type": "stream",
     "text": [
      "None\n",
      "[0 1 2 3]\n"
     ]
    }
   ],
   "source": [
    "# The base attribute of a view returns the original array while it returns None for a copy.\n",
    "print(v1.base)\n",
    "print(v2.base)"
   ]
  },
  {
   "cell_type": "code",
   "execution_count": 52,
   "id": "c8752807",
   "metadata": {},
   "outputs": [
    {
     "name": "stdout",
     "output_type": "stream",
     "text": [
      "[  0   1   2 123]\n",
      "[  2 123]\n"
     ]
    }
   ],
   "source": [
    "# The last element in v1 will be changed aswell since v2 is a view, meaning they share the same data buffer.\n",
    "v2[-1] = 123\n",
    "print(v1)\n",
    "print(v2)"
   ]
  },
  {
   "cell_type": "code",
   "execution_count": null,
   "id": "3dd68221",
   "metadata": {},
   "outputs": [],
   "source": []
  }
 ],
 "metadata": {
  "kernelspec": {
   "display_name": "base",
   "language": "python",
   "name": "python3"
  },
  "language_info": {
   "codemirror_mode": {
    "name": "ipython",
    "version": 3
   },
   "file_extension": ".py",
   "mimetype": "text/x-python",
   "name": "python",
   "nbconvert_exporter": "python",
   "pygments_lexer": "ipython3",
   "version": "3.12.4"
  }
 },
 "nbformat": 4,
 "nbformat_minor": 5
}
